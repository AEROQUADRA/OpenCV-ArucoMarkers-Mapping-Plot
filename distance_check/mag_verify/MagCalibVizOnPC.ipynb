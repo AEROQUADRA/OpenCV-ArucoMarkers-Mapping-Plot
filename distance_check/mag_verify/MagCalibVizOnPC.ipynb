{
 "cells": [
  {
   "cell_type": "code",
   "execution_count": null,
   "metadata": {},
   "outputs": [],
   "source": [
    "%matplotlib inline\n",
    "import matplotlib\n",
    "# matplotlib.use('TkAgg')\n",
    "# from mpl_toolkits.mplot3d import Axes3D\n",
    "import matplotlib.pyplot as plt\n",
    "import numpy as np\n",
    "import zmq\n",
    "import os\n",
    "import time\n",
    "import sys\n",
    "import json\n"
   ]
  },
  {
   "cell_type": "code",
   "execution_count": null,
   "metadata": {},
   "outputs": [],
   "source": [
    "#initializing subscriber\n",
    "host = '192.168.1.10'\n",
    "port = 5000\n",
    "url = 'tcp://'+host+':'+str(port)\n",
    "context = zmq.Context()\n",
    "socket = context.socket(zmq.SUB)\n",
    "socket.connect(url)\n",
    "socket.setsockopt(zmq.SUBSCRIBE, b'')\n",
    "\n",
    "#samples to be collected \n",
    "numSamples = 1000"
   ]
  },
  {
   "cell_type": "code",
   "execution_count": null,
   "metadata": {},
   "outputs": [],
   "source": [
    "def getSamples(numSamples, socket):\n",
    "    count = 0\n",
    "    magVals = np.zeros((numSamples,3))\n",
    "    while count != numSamples:\n",
    "        packet = socket.recv_json(0)\n",
    "        magData = packet['data']\n",
    "        magData = json.loads(magData)\n",
    "        magVals[count,:] = np.array(magData)\n",
    "        count = count + 1\n",
    "        if (count%100 == 0 and count != 0 ):\n",
    "            print (\"Recieved {0} samples of mag data\".format(count))\n",
    "    return magVals"
   ]
  },
  {
   "cell_type": "code",
   "execution_count": null,
   "metadata": {},
   "outputs": [],
   "source": [
    "maguncalib = getSamples(numSamples, socket)\n",
    "plt.scatter(maguncalib[:,0], maguncalib[:,1],color='red',label='mx my',marker='.')\n",
    "plt.scatter(maguncalib[:,0], maguncalib[:,2],color='blue',label='mx mz',marker='^')\n",
    "plt.scatter(maguncalib[:,1], maguncalib[:,2],color='green',label='my mz',marker='s')\n",
    "plt.legend(loc='best')\n",
    "plt.show()"
   ]
  },
  {
   "cell_type": "code",
   "execution_count": null,
   "metadata": {},
   "outputs": [],
   "source": [
    "maguncalib1 = maguncalib"
   ]
  },
  {
   "cell_type": "code",
   "execution_count": null,
   "metadata": {},
   "outputs": [],
   "source": [
    "magcalib = getSamples(numSamples, socket)\n",
    "plt.scatter(magcalib[:,0], magcalib[:,1],color='red',label='mx my',marker='.')\n",
    "plt.scatter(magcalib[:,0], magcalib[:,2],color='blue',label='mx mz',marker='^')\n",
    "plt.scatter(magcalib[:,1], magcalib[:,2],color='green',label='my mz',marker='s')\n",
    "plt.legend(loc='best')\n",
    "plt.show()"
   ]
  },
  {
   "cell_type": "code",
   "execution_count": null,
   "metadata": {},
   "outputs": [],
   "source": []
  },
  {
   "cell_type": "code",
   "execution_count": null,
   "metadata": {},
   "outputs": [],
   "source": []
  },
  {
   "cell_type": "code",
   "execution_count": null,
   "metadata": {},
   "outputs": [],
   "source": []
  }
 ],
 "metadata": {
  "kernelspec": {
   "display_name": "Python 3 (ipykernel)",
   "language": "python",
   "name": "python3"
  },
  "language_info": {
   "codemirror_mode": {
    "name": "ipython",
    "version": 3
   },
   "file_extension": ".py",
   "mimetype": "text/x-python",
   "name": "python",
   "nbconvert_exporter": "python",
   "pygments_lexer": "ipython3",
   "version": "3.11.5"
  }
 },
 "nbformat": 4,
 "nbformat_minor": 4
}
